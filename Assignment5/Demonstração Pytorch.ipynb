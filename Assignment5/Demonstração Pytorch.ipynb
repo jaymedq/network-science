{
 "cells": [
  {
   "cell_type": "markdown",
   "metadata": {},
   "source": [
    "## Demonstração - Pytorch"
   ]
  },
  {
   "cell_type": "markdown",
   "metadata": {},
   "source": [
    "### Tensors"
   ]
  },
  {
   "cell_type": "code",
   "execution_count": 2,
   "metadata": {},
   "outputs": [
    {
     "name": "stdout",
     "output_type": "stream",
     "text": [
      "tensor([[1, 2],\n",
      "        [3, 4]])\n",
      "tensor([[1, 2],\n",
      "        [3, 4]])\n"
     ]
    }
   ],
   "source": [
    "import torch\n",
    "import numpy as np\n",
    "\n",
    "#Inicialização diretamente com dados - tipo inferido automaticamente\n",
    "data = [[1, 2],[3, 4]]\n",
    "\n",
    "x_data = torch.tensor(data)\n",
    "print(x_data)\n",
    "\n",
    "#Inicialização de um NumPy array\n",
    "np_array = np.array(data)\n",
    "x_np = torch.from_numpy(np_array)\n",
    "\n",
    "print(x_np)"
   ]
  },
  {
   "cell_type": "code",
   "execution_count": 2,
   "metadata": {},
   "outputs": [
    {
     "data": {
      "text/plain": [
       "tensor([[1., 1., 1.],\n",
       "        [1., 1., 1.]])"
      ]
     },
     "execution_count": 2,
     "metadata": {},
     "output_type": "execute_result"
    }
   ],
   "source": [
    "#Cria tensor com shape específico e com valores 1.\n",
    "#Shape (2, 3)\n",
    "ones_tensor = torch.ones(2,3)\n",
    "ones_tensor"
   ]
  },
  {
   "cell_type": "code",
   "execution_count": 3,
   "metadata": {},
   "outputs": [
    {
     "data": {
      "text/plain": [
       "tensor([[0., 0., 0., 0., 0.],\n",
       "        [0., 0., 0., 0., 0.],\n",
       "        [0., 0., 0., 0., 0.]])"
      ]
     },
     "execution_count": 3,
     "metadata": {},
     "output_type": "execute_result"
    }
   ],
   "source": [
    "#Cria tensor com shape específico e com valores 0.\n",
    "#Shape (3, 5)\n",
    "zeros_tensor = torch.zeros(3,5)\n",
    "zeros_tensor"
   ]
  },
  {
   "cell_type": "code",
   "execution_count": 4,
   "metadata": {},
   "outputs": [
    {
     "data": {
      "text/plain": [
       "tensor([[1., 1., 1.],\n",
       "        [1., 1., 1.],\n",
       "        [1., 1., 1.],\n",
       "        [1., 1., 1.]])"
      ]
     },
     "execution_count": 4,
     "metadata": {},
     "output_type": "execute_result"
    }
   ],
   "source": [
    "#concatenação de tensors\n",
    "torch.cat([ones_tensor, ones_tensor], dim=0)\n"
   ]
  },
  {
   "cell_type": "code",
   "execution_count": 5,
   "metadata": {},
   "outputs": [
    {
     "data": {
      "text/plain": [
       "tensor([[2., 2., 2.],\n",
       "        [2., 2., 2.]])"
      ]
     },
     "execution_count": 5,
     "metadata": {},
     "output_type": "execute_result"
    }
   ],
   "source": [
    "#multiplicação de tensors\n",
    "\n",
    "ones_tensor * 2"
   ]
  },
  {
   "cell_type": "code",
   "execution_count": 10,
   "metadata": {},
   "outputs": [
    {
     "name": "stdout",
     "output_type": "stream",
     "text": [
      "tensor([[ 0.0534,  1.1075, -0.9374],\n",
      "        [ 1.0226, -0.3059,  0.8400],\n",
      "        [ 0.4347, -0.2652, -1.5642],\n",
      "        [-1.3108, -1.1800, -0.3074],\n",
      "        [ 0.2132, -1.1800, -1.6180],\n",
      "        [ 0.7670,  1.3757,  1.1137],\n",
      "        [-0.4538,  0.4715, -0.8006],\n",
      "        [ 0.4419,  0.8488,  0.1905],\n",
      "        [-0.7777, -0.7594, -0.4455],\n",
      "        [-1.0569, -0.1340, -0.5088]])\n",
      "tensor([[-0.3648, -0.2099],\n",
      "        [ 1.6840,  0.7217],\n",
      "        [-0.0096,  0.7985],\n",
      "        [-0.4114,  0.3050],\n",
      "        [ 1.0769, -0.3420],\n",
      "        [ 0.2773,  2.6116],\n",
      "        [ 0.7681,  1.7211],\n",
      "        [-1.3204, -0.2735],\n",
      "        [-0.6515,  0.6538],\n",
      "        [ 1.0792, -0.5130]])\n"
     ]
    }
   ],
   "source": [
    "# Cria tensor com shape específico e com valores aleaórios.\n",
    "\n",
    "#Shape (10, 3)\n",
    "x = torch.randn(10, 3)\n",
    "print(x)\n",
    "\n",
    "#Shape(10, 2)\n",
    "y = torch.randn(10, 2)\n",
    "print(y)\n"
   ]
  },
  {
   "cell_type": "code",
   "execution_count": 11,
   "metadata": {},
   "outputs": [
    {
     "name": "stdout",
     "output_type": "stream",
     "text": [
      "Shape do tensor: torch.Size([10, 3])\n",
      "Datatype do tensor: torch.float32\n",
      "Dispositivo onde o tensor está armazenado: cpu\n"
     ]
    }
   ],
   "source": [
    "#Atributos de um tensor\n",
    "\n",
    "print(f\"Shape do tensor: {x.shape}\")\n",
    "print(f\"Datatype do tensor: {x.dtype}\")\n",
    "print(f\"Dispositivo onde o tensor está armazenado: {x.device}\")"
   ]
  },
  {
   "cell_type": "code",
   "execution_count": 9,
   "metadata": {},
   "outputs": [
    {
     "name": "stdout",
     "output_type": "stream",
     "text": [
      "Dispositivo onde o tensor está armazenado: cuda:0\n"
     ]
    }
   ],
   "source": [
    "# Movendo o tensor para a GPU se disponível \n",
    "if torch.cuda.is_available():\n",
    "    x = x.to('cuda')\n",
    "    \n",
    "print(f\"Dispositivo onde o tensor está armazenado: {x.device}\")"
   ]
  },
  {
   "cell_type": "markdown",
   "metadata": {},
   "source": [
    "### Manipulação de tensor \n",
    "\n",
    "As operações são similares a um Np-array\n"
   ]
  },
  {
   "cell_type": "code",
   "execution_count": 12,
   "metadata": {},
   "outputs": [
    {
     "name": "stdout",
     "output_type": "stream",
     "text": [
      "tensor([[ 0.0534,  1.1075, -0.9374],\n",
      "        [ 1.0226, -0.3059,  0.8400],\n",
      "        [ 0.4347, -0.2652, -1.5642],\n",
      "        [-1.3108, -1.1800, -0.3074],\n",
      "        [ 0.2132, -1.1800, -1.6180],\n",
      "        [ 0.7670,  1.3757,  1.1137],\n",
      "        [-0.4538,  0.4715, -0.8006],\n",
      "        [ 0.4419,  0.8488,  0.1905],\n",
      "        [-0.7777, -0.7594, -0.4455],\n",
      "        [-1.0569, -0.1340, -0.5088]])\n",
      "\n",
      "Primeira linha:  tensor([ 0.0534,  1.1075, -0.9374])\n",
      "Primeira coluna:  tensor([ 0.0534,  1.0226,  0.4347, -1.3108,  0.2132,  0.7670, -0.4538,  0.4419,\n",
      "        -0.7777, -1.0569])\n",
      "Ultima coluna: tensor([-0.9374,  0.8400, -1.5642, -0.3074, -1.6180,  1.1137, -0.8006,  0.1905,\n",
      "        -0.4455, -0.5088])\n"
     ]
    }
   ],
   "source": [
    "print(x)\n",
    "print()\n",
    "print('Primeira linha: ', x[0,:])\n",
    "print('Primeira coluna: ', x[:, 0])\n",
    "print('Ultima coluna:', x[:, -1])\n"
   ]
  },
  {
   "cell_type": "markdown",
   "metadata": {},
   "source": [
    "# Criando modelos"
   ]
  },
  {
   "cell_type": "markdown",
   "metadata": {},
   "source": [
    "## Primeiro modelo"
   ]
  },
  {
   "cell_type": "markdown",
   "metadata": {},
   "source": [
    "Aqui é apresentado um exemplo simples que utiliza uma camada completamente conectada.\n",
    "\n",
    "Para acelerar as operações na rede neural, nós a movemos para a GPU, se disponível."
   ]
  },
  {
   "cell_type": "code",
   "execution_count": 22,
   "metadata": {},
   "outputs": [
    {
     "name": "stdout",
     "output_type": "stream",
     "text": [
      "w:  Parameter containing:\n",
      "tensor([[-0.5470,  0.4186, -0.3346],\n",
      "        [ 0.2358, -0.2896,  0.0639]], requires_grad=True)\n",
      "b:  Parameter containing:\n",
      "tensor([-0.2415,  0.3554], requires_grad=True)\n"
     ]
    }
   ],
   "source": [
    "from torch import nn\n",
    "import torch.nn.functional as F\n",
    "\n",
    "# Construi uma camada fully connected\n",
    "#torch.nn.Linear(in_features, out_features, bias=True, device=None, dtype=None)\n",
    "linear = nn.Linear(3, 2)\n",
    "\n",
    "print ('w: ', linear.weight)\n",
    "print ('b: ', linear.bias)"
   ]
  },
  {
   "cell_type": "code",
   "execution_count": 23,
   "metadata": {},
   "outputs": [
    {
     "name": "stdout",
     "output_type": "stream",
     "text": [
      "Usando cuda\n"
     ]
    }
   ],
   "source": [
    "# Pega a GPU ou CPU para treinamento.\n",
    "device = \"cuda\" if torch.cuda.is_available() else \"cpu\"\n",
    "\n",
    "print(\"Usando {}\".format(device))"
   ]
  },
  {
   "cell_type": "code",
   "execution_count": 56,
   "metadata": {},
   "outputs": [
    {
     "data": {
      "text/plain": [
       "tensor([[ 0.5067, -0.0126],\n",
       "        [-1.2099,  0.7388],\n",
       "        [-0.0668,  0.4348],\n",
       "        [ 0.0844,  0.3683],\n",
       "        [-0.3107,  0.6440],\n",
       "        [-0.4577,  0.2091],\n",
       "        [ 0.4720,  0.0607],\n",
       "        [-0.1916,  0.2260],\n",
       "        [ 0.0150,  0.3634],\n",
       "        [ 0.4508,  0.1124]], device='cuda:0', grad_fn=<AddmmBackward0>)"
      ]
     },
     "execution_count": 56,
     "metadata": {},
     "output_type": "execute_result"
    }
   ],
   "source": [
    "linear = linear.to(device)\n",
    "\n",
    "x = x.to(device)\n",
    "\n",
    "#Operação - Forward.\n",
    "pred = linear(x)\n",
    "pred\n",
    "\n",
    "#x, tensor criado acima, representa as features de entrada\n",
    "#y, tensor criado acima, representa os valores alvo"
   ]
  },
  {
   "cell_type": "code",
   "execution_count": 57,
   "metadata": {},
   "outputs": [],
   "source": [
    "# Constroi a função de perda e otimização \n",
    "criterion = nn.MSELoss()\n",
    "\n",
    "# Otimizador\n",
    "optimizer = torch.optim.Adam(linear.parameters(), lr=0.001)\n"
   ]
  },
  {
   "cell_type": "code",
   "execution_count": 216,
   "metadata": {},
   "outputs": [
    {
     "name": "stdout",
     "output_type": "stream",
     "text": [
      "Perda:  0.7464990019798279\n",
      "Perda depois de 1 passo de otimização :  0.7459738850593567\n",
      "Perda depois de 2 passos de otimização :  0.7454549670219421\n"
     ]
    }
   ],
   "source": [
    "#Manda o y para a gpu\n",
    "y = y.to(device)\n",
    "\n",
    "# Computa a perda.\n",
    "loss = criterion(pred, y)\n",
    "print('Perda: ', loss.item())\n",
    "\n",
    "# Propaga os erros (backpropagation) e atualiza os pesos\n",
    "loss.backward()\n",
    "optimizer.step() # 1-passo do 'gradient descent'\n",
    "\n",
    "# Imprime a perda depois de 1 passo do gradient descent.\n",
    "pred = linear(x)\n",
    "loss = criterion(pred, y)\n",
    "print('Perda depois de 1 passo de otimização : ', loss.item())\n",
    "\n",
    "#Mais um passo - backpropagation e atualização de pesos\n",
    "loss.backward()\n",
    "optimizer.step()\n",
    "\n",
    "# Imprime a perda depois de 2 passos do gradient descent.\n",
    "pred = linear(x)\n",
    "loss = criterion(pred, y)\n",
    "print('Perda depois de 2 passos de otimização : ', loss.item())"
   ]
  }
 ],
 "metadata": {
  "kernelspec": {
   "display_name": "gnn",
   "language": "python",
   "name": "gnn"
  },
  "language_info": {
   "codemirror_mode": {
    "name": "ipython",
    "version": 3
   },
   "file_extension": ".py",
   "mimetype": "text/x-python",
   "name": "python",
   "nbconvert_exporter": "python",
   "pygments_lexer": "ipython3",
   "version": "3.7.13"
  }
 },
 "nbformat": 4,
 "nbformat_minor": 4
}
